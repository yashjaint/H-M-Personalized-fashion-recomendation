{
 "cells": [
  {
   "cell_type": "code",
   "execution_count": null,
   "id": "01e5a46b",
   "metadata": {
    "_cell_guid": "b1076dfc-b9ad-4769-8c92-a6c4dae69d19",
    "_uuid": "8f2839f25d086af736a60e9eeb907d3b93b6e0e5",
    "papermill": {
     "duration": 0.046782,
     "end_time": "2022-03-16T12:28:18.901352",
     "exception": false,
     "start_time": "2022-03-16T12:28:18.854570",
     "status": "completed"
    },
    "tags": []
   },
   "outputs": [],
   "source": []
  },
  {
   "cell_type": "code",
   "execution_count": 1,
   "id": "27dab9d2",
   "metadata": {
    "execution": {
     "iopub.execute_input": "2022-03-16T12:28:18.981278Z",
     "iopub.status.busy": "2022-03-16T12:28:18.980463Z",
     "iopub.status.idle": "2022-03-16T12:28:23.718562Z",
     "shell.execute_reply": "2022-03-16T12:28:23.719033Z",
     "shell.execute_reply.started": "2022-03-16T11:46:02.408786Z"
    },
    "papermill": {
     "duration": 4.783647,
     "end_time": "2022-03-16T12:28:23.719279",
     "exception": false,
     "start_time": "2022-03-16T12:28:18.935632",
     "status": "completed"
    },
    "tags": []
   },
   "outputs": [
    {
     "name": "stderr",
     "output_type": "stream",
     "text": [
      "/opt/conda/lib/python3.7/site-packages/geopandas/_compat.py:115: UserWarning: The Shapely GEOS version (3.9.1-CAPI-1.14.2) is incompatible with the GEOS version PyGEOS was compiled with (3.10.1-CAPI-1.16.0). Conversions between both will be slow.\n",
      "  shapely_geos_version, geos_capi_version_string\n"
     ]
    },
    {
     "data": {
      "text/html": [
       "        <script type=\"text/javascript\">\n",
       "        window.PlotlyConfig = {MathJaxConfig: 'local'};\n",
       "        if (window.MathJax) {MathJax.Hub.Config({SVG: {font: \"STIX-Web\"}});}\n",
       "        if (typeof require !== 'undefined') {\n",
       "        require.undef(\"plotly\");\n",
       "        requirejs.config({\n",
       "            paths: {\n",
       "                'plotly': ['https://cdn.plot.ly/plotly-2.9.0.min']\n",
       "            }\n",
       "        });\n",
       "        require(['plotly'], function(Plotly) {\n",
       "            window._Plotly = Plotly;\n",
       "        });\n",
       "        }\n",
       "        </script>\n",
       "        "
      ]
     },
     "metadata": {},
     "output_type": "display_data"
    }
   ],
   "source": [
    "import numpy as np\n",
    "import pandas as pd\n",
    "import matplotlib as plt\n",
    "import seaborn as sns\n",
    "from collections import Counter\n",
    "import os.path\n",
    "from sklearn.metrics import pairwise_distances\n",
    "from PIL import Image\n",
    "import requests\n",
    "from io import BytesIO\n",
    "import matplotlib.pyplot as plt\n",
    "import pickle\n",
    "import warnings\n",
    "from bs4 import BeautifulSoup\n",
    "from nltk.corpus import stopwords\n",
    "from nltk.tokenize import word_tokenize\n",
    "import nltk\n",
    "import math\n",
    "import time\n",
    "import re\n",
    "import os\n",
    "import seaborn as sns\n",
    "from collections import Counter\n",
    "from sklearn.feature_extraction.text import CountVectorizer\n",
    "from sklearn.feature_extraction.text import TfidfVectorizer\n",
    "from sklearn.metrics.pairwise import cosine_similarity  \n",
    "from sklearn.metrics import pairwise_distances\n",
    "from matplotlib import gridspec\n",
    "from scipy.sparse import hstack\n",
    "import plotly\n",
    "import plotly.figure_factory as ff\n",
    "from plotly.graph_objs import Scatter, Layout\n",
    "plotly.offline.init_notebook_mode(connected=True)\n",
    "warnings.filterwarnings(\"ignore\")"
   ]
  },
  {
   "cell_type": "code",
   "execution_count": 2,
   "id": "b3ad97a8",
   "metadata": {
    "execution": {
     "iopub.execute_input": "2022-03-16T12:28:23.789400Z",
     "iopub.status.busy": "2022-03-16T12:28:23.788888Z",
     "iopub.status.idle": "2022-03-16T12:28:24.616757Z",
     "shell.execute_reply": "2022-03-16T12:28:24.615879Z",
     "shell.execute_reply.started": "2022-03-16T11:32:28.115049Z"
    },
    "papermill": {
     "duration": 0.864327,
     "end_time": "2022-03-16T12:28:24.616936",
     "exception": false,
     "start_time": "2022-03-16T12:28:23.752609",
     "status": "completed"
    },
    "tags": []
   },
   "outputs": [],
   "source": [
    "HM_data = pd.read_csv(\"../input/h-and-m-personalized-fashion-recommendations/articles.csv\")\n",
    "HM_data=HM_data.head(10000)"
   ]
  },
  {
   "cell_type": "code",
   "execution_count": 3,
   "id": "51777c91",
   "metadata": {
    "execution": {
     "iopub.execute_input": "2022-03-16T12:28:24.692646Z",
     "iopub.status.busy": "2022-03-16T12:28:24.691079Z",
     "iopub.status.idle": "2022-03-16T12:28:24.695328Z",
     "shell.execute_reply": "2022-03-16T12:28:24.694678Z",
     "shell.execute_reply.started": "2022-03-16T11:32:30.417231Z"
    },
    "papermill": {
     "duration": 0.04338,
     "end_time": "2022-03-16T12:28:24.695474",
     "exception": false,
     "start_time": "2022-03-16T12:28:24.652094",
     "status": "completed"
    },
    "tags": []
   },
   "outputs": [
    {
     "name": "stdout",
     "output_type": "stream",
     "text": [
      "Number of data-points in the data: 10000\n",
      "Number of features in the data : 25\n"
     ]
    }
   ],
   "source": [
    "print(\"Number of data-points in the data:\" , HM_data.shape[0])\n",
    "print(\"Number of features in the data :\" , HM_data.shape[1])"
   ]
  },
  {
   "cell_type": "code",
   "execution_count": 4,
   "id": "37e0fe34",
   "metadata": {
    "execution": {
     "iopub.execute_input": "2022-03-16T12:28:24.767295Z",
     "iopub.status.busy": "2022-03-16T12:28:24.766569Z",
     "iopub.status.idle": "2022-03-16T12:28:24.770421Z",
     "shell.execute_reply": "2022-03-16T12:28:24.769995Z",
     "shell.execute_reply.started": "2022-03-16T11:32:32.131452Z"
    },
    "papermill": {
     "duration": 0.041077,
     "end_time": "2022-03-16T12:28:24.770524",
     "exception": false,
     "start_time": "2022-03-16T12:28:24.729447",
     "status": "completed"
    },
    "tags": []
   },
   "outputs": [
    {
     "name": "stdout",
     "output_type": "stream",
     "text": [
      "Index(['article_id', 'product_code', 'prod_name', 'product_type_no',\n",
      "       'product_type_name', 'product_group_name', 'graphical_appearance_no',\n",
      "       'graphical_appearance_name', 'colour_group_code', 'colour_group_name',\n",
      "       'perceived_colour_value_id', 'perceived_colour_value_name',\n",
      "       'perceived_colour_master_id', 'perceived_colour_master_name',\n",
      "       'department_no', 'department_name', 'index_code', 'index_name',\n",
      "       'index_group_no', 'index_group_name', 'section_no', 'section_name',\n",
      "       'garment_group_no', 'garment_group_name', 'detail_desc'],\n",
      "      dtype='object')\n"
     ]
    }
   ],
   "source": [
    "print(HM_data.columns)"
   ]
  },
  {
   "cell_type": "code",
   "execution_count": 5,
   "id": "38fc6b29",
   "metadata": {
    "execution": {
     "iopub.execute_input": "2022-03-16T12:28:24.853126Z",
     "iopub.status.busy": "2022-03-16T12:28:24.852485Z",
     "iopub.status.idle": "2022-03-16T12:28:34.112474Z",
     "shell.execute_reply": "2022-03-16T12:28:34.113325Z",
     "shell.execute_reply.started": "2022-03-16T11:32:33.553988Z"
    },
    "papermill": {
     "duration": 9.303693,
     "end_time": "2022-03-16T12:28:34.113515",
     "exception": false,
     "start_time": "2022-03-16T12:28:24.809822",
     "status": "completed"
    },
    "tags": []
   },
   "outputs": [
    {
     "name": "stdout",
     "output_type": "stream",
     "text": [
      "There is 9883 article with corresponding image\n"
     ]
    }
   ],
   "source": [
    "images_path=[]\n",
    "i=0\n",
    "for p in HM_data['article_id'].tolist():\n",
    "    path= '../input/h-and-m-personalized-fashion-recommendations/images/' + '0' + str(p)[:2] + '/'+ '0' + str(p) +'.jpg'\n",
    "\n",
    "    if os.path.exists(path):\n",
    "        i+=1\n",
    "        images_path.append(path)\n",
    "    else: images_path.append(None)\n",
    "print(f'There is {i} article with corresponding image')\n",
    "    "
   ]
  },
  {
   "cell_type": "code",
   "execution_count": 6,
   "id": "ef770261",
   "metadata": {
    "execution": {
     "iopub.execute_input": "2022-03-16T12:28:34.191113Z",
     "iopub.status.busy": "2022-03-16T12:28:34.190314Z",
     "iopub.status.idle": "2022-03-16T12:28:34.204673Z",
     "shell.execute_reply": "2022-03-16T12:28:34.205285Z",
     "shell.execute_reply.started": "2022-03-16T11:33:07.026726Z"
    },
    "papermill": {
     "duration": 0.057769,
     "end_time": "2022-03-16T12:28:34.205458",
     "exception": false,
     "start_time": "2022-03-16T12:28:34.147689",
     "status": "completed"
    },
    "tags": []
   },
   "outputs": [
    {
     "name": "stdout",
     "output_type": "stream",
     "text": [
      "Number of data-points in the data: 10000\n",
      "Number of features in the data : 7\n"
     ]
    }
   ],
   "source": [
    "HM_data['image_path']=images_path\n",
    "HM_data = HM_data[['article_id', 'prod_name', 'colour_group_name', 'image_path',\n",
    "             'product_type_name', 'product_group_name', 'detail_desc']]\n",
    "print(\"Number of data-points in the data:\" , HM_data.shape[0])\n",
    "print(\"Number of features in the data :\" , HM_data.shape[1])"
   ]
  },
  {
   "cell_type": "code",
   "execution_count": 7,
   "id": "3028a505",
   "metadata": {
    "execution": {
     "iopub.execute_input": "2022-03-16T12:28:34.280626Z",
     "iopub.status.busy": "2022-03-16T12:28:34.279884Z",
     "iopub.status.idle": "2022-03-16T12:28:34.291598Z",
     "shell.execute_reply": "2022-03-16T12:28:34.291185Z",
     "shell.execute_reply.started": "2022-03-16T11:33:08.063195Z"
    },
    "papermill": {
     "duration": 0.050796,
     "end_time": "2022-03-16T12:28:34.291699",
     "exception": false,
     "start_time": "2022-03-16T12:28:34.240903",
     "status": "completed"
    },
    "tags": []
   },
   "outputs": [
    {
     "data": {
      "text/html": [
       "<div>\n",
       "<style scoped>\n",
       "    .dataframe tbody tr th:only-of-type {\n",
       "        vertical-align: middle;\n",
       "    }\n",
       "\n",
       "    .dataframe tbody tr th {\n",
       "        vertical-align: top;\n",
       "    }\n",
       "\n",
       "    .dataframe thead th {\n",
       "        text-align: right;\n",
       "    }\n",
       "</style>\n",
       "<table border=\"1\" class=\"dataframe\">\n",
       "  <thead>\n",
       "    <tr style=\"text-align: right;\">\n",
       "      <th></th>\n",
       "      <th>article_id</th>\n",
       "      <th>prod_name</th>\n",
       "      <th>colour_group_name</th>\n",
       "      <th>image_path</th>\n",
       "      <th>product_type_name</th>\n",
       "      <th>product_group_name</th>\n",
       "      <th>detail_desc</th>\n",
       "    </tr>\n",
       "  </thead>\n",
       "  <tbody>\n",
       "    <tr>\n",
       "      <th>0</th>\n",
       "      <td>108775015</td>\n",
       "      <td>Strap top</td>\n",
       "      <td>Black</td>\n",
       "      <td>../input/h-and-m-personalized-fashion-recommen...</td>\n",
       "      <td>Vest top</td>\n",
       "      <td>Garment Upper body</td>\n",
       "      <td>Jersey top with narrow shoulder straps.</td>\n",
       "    </tr>\n",
       "    <tr>\n",
       "      <th>1</th>\n",
       "      <td>108775044</td>\n",
       "      <td>Strap top</td>\n",
       "      <td>White</td>\n",
       "      <td>../input/h-and-m-personalized-fashion-recommen...</td>\n",
       "      <td>Vest top</td>\n",
       "      <td>Garment Upper body</td>\n",
       "      <td>Jersey top with narrow shoulder straps.</td>\n",
       "    </tr>\n",
       "    <tr>\n",
       "      <th>2</th>\n",
       "      <td>108775051</td>\n",
       "      <td>Strap top (1)</td>\n",
       "      <td>Off White</td>\n",
       "      <td>../input/h-and-m-personalized-fashion-recommen...</td>\n",
       "      <td>Vest top</td>\n",
       "      <td>Garment Upper body</td>\n",
       "      <td>Jersey top with narrow shoulder straps.</td>\n",
       "    </tr>\n",
       "  </tbody>\n",
       "</table>\n",
       "</div>"
      ],
      "text/plain": [
       "   article_id      prod_name colour_group_name  \\\n",
       "0   108775015      Strap top             Black   \n",
       "1   108775044      Strap top             White   \n",
       "2   108775051  Strap top (1)         Off White   \n",
       "\n",
       "                                          image_path product_type_name  \\\n",
       "0  ../input/h-and-m-personalized-fashion-recommen...          Vest top   \n",
       "1  ../input/h-and-m-personalized-fashion-recommen...          Vest top   \n",
       "2  ../input/h-and-m-personalized-fashion-recommen...          Vest top   \n",
       "\n",
       "   product_group_name                              detail_desc  \n",
       "0  Garment Upper body  Jersey top with narrow shoulder straps.  \n",
       "1  Garment Upper body  Jersey top with narrow shoulder straps.  \n",
       "2  Garment Upper body  Jersey top with narrow shoulder straps.  "
      ]
     },
     "execution_count": 7,
     "metadata": {},
     "output_type": "execute_result"
    }
   ],
   "source": [
    "HM_data.head(3)"
   ]
  },
  {
   "cell_type": "code",
   "execution_count": 8,
   "id": "19b54c9e",
   "metadata": {
    "execution": {
     "iopub.execute_input": "2022-03-16T12:28:34.372142Z",
     "iopub.status.busy": "2022-03-16T12:28:34.371345Z",
     "iopub.status.idle": "2022-03-16T12:28:34.376083Z",
     "shell.execute_reply": "2022-03-16T12:28:34.376646Z",
     "shell.execute_reply.started": "2022-03-16T11:33:09.155131Z"
    },
    "papermill": {
     "duration": 0.050711,
     "end_time": "2022-03-16T12:28:34.376814",
     "exception": false,
     "start_time": "2022-03-16T12:28:34.326103",
     "status": "completed"
    },
    "tags": []
   },
   "outputs": [
    {
     "name": "stdout",
     "output_type": "stream",
     "text": [
      "count        10000\n",
      "unique          93\n",
      "top       Trousers\n",
      "freq          1080\n",
      "Name: product_type_name, dtype: object\n"
     ]
    }
   ],
   "source": [
    "#finding the 10 most frequent product_type_names.\n",
    "print(HM_data['product_type_name'].describe())"
   ]
  },
  {
   "cell_type": "code",
   "execution_count": 9,
   "id": "e693032e",
   "metadata": {
    "execution": {
     "iopub.execute_input": "2022-03-16T12:28:34.453610Z",
     "iopub.status.busy": "2022-03-16T12:28:34.452976Z",
     "iopub.status.idle": "2022-03-16T12:28:34.455606Z",
     "shell.execute_reply": "2022-03-16T12:28:34.456037Z",
     "shell.execute_reply.started": "2022-03-16T11:33:10.189390Z"
    },
    "papermill": {
     "duration": 0.044148,
     "end_time": "2022-03-16T12:28:34.456164",
     "exception": false,
     "start_time": "2022-03-16T12:28:34.412016",
     "status": "completed"
    },
    "tags": []
   },
   "outputs": [
    {
     "data": {
      "text/plain": [
       "[('Trousers', 1080),\n",
       " ('Sweater', 789),\n",
       " ('T-shirt', 723),\n",
       " ('Dress', 500),\n",
       " ('Socks', 495),\n",
       " ('Underwear bottom', 449),\n",
       " ('Vest top', 434),\n",
       " ('Shorts', 368),\n",
       " ('Hoodie', 329),\n",
       " ('Shirt', 329)]"
      ]
     },
     "execution_count": 9,
     "metadata": {},
     "output_type": "execute_result"
    }
   ],
   "source": [
    "product_type_count = Counter(list(HM_data['product_type_name']))\n",
    "product_type_count.most_common(10)"
   ]
  },
  {
   "cell_type": "code",
   "execution_count": 10,
   "id": "f6386364",
   "metadata": {
    "execution": {
     "iopub.execute_input": "2022-03-16T12:28:34.532698Z",
     "iopub.status.busy": "2022-03-16T12:28:34.530519Z",
     "iopub.status.idle": "2022-03-16T12:28:34.536385Z",
     "shell.execute_reply": "2022-03-16T12:28:34.536824Z",
     "shell.execute_reply.started": "2022-03-16T11:33:11.163041Z"
    },
    "papermill": {
     "duration": 0.04583,
     "end_time": "2022-03-16T12:28:34.536972",
     "exception": false,
     "start_time": "2022-03-16T12:28:34.491142",
     "status": "completed"
    },
    "tags": []
   },
   "outputs": [
    {
     "name": "stdout",
     "output_type": "stream",
     "text": [
      "count     10000\n",
      "unique       49\n",
      "top       Black\n",
      "freq       2070\n",
      "Name: colour_group_name, dtype: object\n"
     ]
    }
   ],
   "source": [
    "print(HM_data['colour_group_name'].describe())"
   ]
  },
  {
   "cell_type": "code",
   "execution_count": 11,
   "id": "87c7ca9d",
   "metadata": {
    "execution": {
     "iopub.execute_input": "2022-03-16T12:28:34.615545Z",
     "iopub.status.busy": "2022-03-16T12:28:34.614892Z",
     "iopub.status.idle": "2022-03-16T12:28:34.617465Z",
     "shell.execute_reply": "2022-03-16T12:28:34.617924Z",
     "shell.execute_reply.started": "2022-03-16T11:33:12.178558Z"
    },
    "papermill": {
     "duration": 0.045498,
     "end_time": "2022-03-16T12:28:34.618048",
     "exception": false,
     "start_time": "2022-03-16T12:28:34.572550",
     "status": "completed"
    },
    "tags": []
   },
   "outputs": [
    {
     "data": {
      "text/plain": [
       "[('Black', 2070),\n",
       " ('Dark Blue', 1361),\n",
       " ('White', 774),\n",
       " ('Light Pink', 553),\n",
       " ('Grey', 524),\n",
       " ('Dark Grey', 416),\n",
       " ('Dark Red', 338),\n",
       " ('Light Grey', 291),\n",
       " ('Red', 291),\n",
       " ('Blue', 284)]"
      ]
     },
     "execution_count": 11,
     "metadata": {},
     "output_type": "execute_result"
    }
   ],
   "source": [
    "#find the 10 most frequent colors.\n",
    "color_count = Counter(list(HM_data['colour_group_name']))\n",
    "color_count.most_common(10)"
   ]
  },
  {
   "cell_type": "code",
   "execution_count": 12,
   "id": "1d541172",
   "metadata": {
    "execution": {
     "iopub.execute_input": "2022-03-16T12:28:34.698383Z",
     "iopub.status.busy": "2022-03-16T12:28:34.697646Z",
     "iopub.status.idle": "2022-03-16T12:28:34.702636Z",
     "shell.execute_reply": "2022-03-16T12:28:34.703149Z",
     "shell.execute_reply.started": "2022-03-16T11:33:13.319287Z"
    },
    "papermill": {
     "duration": 0.04947,
     "end_time": "2022-03-16T12:28:34.703283",
     "exception": false,
     "start_time": "2022-03-16T12:28:34.653813",
     "status": "completed"
    },
    "tags": []
   },
   "outputs": [
    {
     "name": "stdout",
     "output_type": "stream",
     "text": [
      "count                                                  9944\n",
      "unique                                                 3132\n",
      "top       Sleeveless bodysuits in soft organic cotton je...\n",
      "freq                                                     45\n",
      "Name: detail_desc, dtype: object\n"
     ]
    }
   ],
   "source": [
    "print(HM_data['detail_desc'].describe())"
   ]
  },
  {
   "cell_type": "code",
   "execution_count": 13,
   "id": "5330afb9",
   "metadata": {
    "execution": {
     "iopub.execute_input": "2022-03-16T12:28:34.782983Z",
     "iopub.status.busy": "2022-03-16T12:28:34.782229Z",
     "iopub.status.idle": "2022-03-16T12:28:34.785316Z",
     "shell.execute_reply": "2022-03-16T12:28:34.785893Z",
     "shell.execute_reply.started": "2022-03-16T11:33:14.337716Z"
    },
    "papermill": {
     "duration": 0.046725,
     "end_time": "2022-03-16T12:28:34.786058",
     "exception": false,
     "start_time": "2022-03-16T12:28:34.739333",
     "status": "completed"
    },
    "tags": []
   },
   "outputs": [
    {
     "name": "stdout",
     "output_type": "stream",
     "text": [
      "Number of duplicates present in articles: 6867\n"
     ]
    }
   ],
   "source": [
    "print(\"Number of duplicates present in articles: {}\".format(sum(HM_data.duplicated(\"detail_desc\"))))"
   ]
  },
  {
   "cell_type": "code",
   "execution_count": 14,
   "id": "6b1e1e2d",
   "metadata": {
    "execution": {
     "iopub.execute_input": "2022-03-16T12:28:34.876498Z",
     "iopub.status.busy": "2022-03-16T12:28:34.875784Z",
     "iopub.status.idle": "2022-03-16T12:28:34.878622Z",
     "shell.execute_reply": "2022-03-16T12:28:34.879055Z",
     "shell.execute_reply.started": "2022-03-16T11:33:15.348064Z"
    },
    "papermill": {
     "duration": 0.055675,
     "end_time": "2022-03-16T12:28:34.879183",
     "exception": false,
     "start_time": "2022-03-16T12:28:34.823508",
     "status": "completed"
    },
    "tags": []
   },
   "outputs": [
    {
     "data": {
      "text/html": [
       "<div>\n",
       "<style scoped>\n",
       "    .dataframe tbody tr th:only-of-type {\n",
       "        vertical-align: middle;\n",
       "    }\n",
       "\n",
       "    .dataframe tbody tr th {\n",
       "        vertical-align: top;\n",
       "    }\n",
       "\n",
       "    .dataframe thead th {\n",
       "        text-align: right;\n",
       "    }\n",
       "</style>\n",
       "<table border=\"1\" class=\"dataframe\">\n",
       "  <thead>\n",
       "    <tr style=\"text-align: right;\">\n",
       "      <th></th>\n",
       "      <th>article_id</th>\n",
       "      <th>prod_name</th>\n",
       "      <th>colour_group_name</th>\n",
       "      <th>image_path</th>\n",
       "      <th>product_type_name</th>\n",
       "      <th>product_group_name</th>\n",
       "      <th>detail_desc</th>\n",
       "    </tr>\n",
       "  </thead>\n",
       "  <tbody>\n",
       "    <tr>\n",
       "      <th>0</th>\n",
       "      <td>108775015</td>\n",
       "      <td>Strap top</td>\n",
       "      <td>Black</td>\n",
       "      <td>../input/h-and-m-personalized-fashion-recommen...</td>\n",
       "      <td>Vest top</td>\n",
       "      <td>Garment Upper body</td>\n",
       "      <td>Jersey top with narrow shoulder straps.</td>\n",
       "    </tr>\n",
       "    <tr>\n",
       "      <th>1</th>\n",
       "      <td>108775044</td>\n",
       "      <td>Strap top</td>\n",
       "      <td>White</td>\n",
       "      <td>../input/h-and-m-personalized-fashion-recommen...</td>\n",
       "      <td>Vest top</td>\n",
       "      <td>Garment Upper body</td>\n",
       "      <td>Jersey top with narrow shoulder straps.</td>\n",
       "    </tr>\n",
       "    <tr>\n",
       "      <th>2</th>\n",
       "      <td>108775051</td>\n",
       "      <td>Strap top (1)</td>\n",
       "      <td>Off White</td>\n",
       "      <td>../input/h-and-m-personalized-fashion-recommen...</td>\n",
       "      <td>Vest top</td>\n",
       "      <td>Garment Upper body</td>\n",
       "      <td>Jersey top with narrow shoulder straps.</td>\n",
       "    </tr>\n",
       "    <tr>\n",
       "      <th>3</th>\n",
       "      <td>110065001</td>\n",
       "      <td>OP T-shirt (Idro)</td>\n",
       "      <td>Black</td>\n",
       "      <td>../input/h-and-m-personalized-fashion-recommen...</td>\n",
       "      <td>Bra</td>\n",
       "      <td>Underwear</td>\n",
       "      <td>Microfibre T-shirt bra with underwired, moulde...</td>\n",
       "    </tr>\n",
       "    <tr>\n",
       "      <th>4</th>\n",
       "      <td>110065002</td>\n",
       "      <td>OP T-shirt (Idro)</td>\n",
       "      <td>White</td>\n",
       "      <td>../input/h-and-m-personalized-fashion-recommen...</td>\n",
       "      <td>Bra</td>\n",
       "      <td>Underwear</td>\n",
       "      <td>Microfibre T-shirt bra with underwired, moulde...</td>\n",
       "    </tr>\n",
       "    <tr>\n",
       "      <th>...</th>\n",
       "      <td>...</td>\n",
       "      <td>...</td>\n",
       "      <td>...</td>\n",
       "      <td>...</td>\n",
       "      <td>...</td>\n",
       "      <td>...</td>\n",
       "      <td>...</td>\n",
       "    </tr>\n",
       "    <tr>\n",
       "      <th>9995</th>\n",
       "      <td>537708002</td>\n",
       "      <td>SEAN CREW NECK DEAL</td>\n",
       "      <td>Light Grey</td>\n",
       "      <td>../input/h-and-m-personalized-fashion-recommen...</td>\n",
       "      <td>Sweater</td>\n",
       "      <td>Garment Upper body</td>\n",
       "      <td>Top in light, printed sweatshirt fabric with r...</td>\n",
       "    </tr>\n",
       "    <tr>\n",
       "      <th>9996</th>\n",
       "      <td>537722001</td>\n",
       "      <td>BEAR KNOT TERRY</td>\n",
       "      <td>Grey</td>\n",
       "      <td>../input/h-and-m-personalized-fashion-recommen...</td>\n",
       "      <td>Sweater</td>\n",
       "      <td>Garment Upper body</td>\n",
       "      <td>Top in sweatshirt fabric with a decorative kno...</td>\n",
       "    </tr>\n",
       "    <tr>\n",
       "      <th>9997</th>\n",
       "      <td>537722004</td>\n",
       "      <td>BEAR KNOT TERRY</td>\n",
       "      <td>Pink</td>\n",
       "      <td>../input/h-and-m-personalized-fashion-recommen...</td>\n",
       "      <td>Sweater</td>\n",
       "      <td>Garment Upper body</td>\n",
       "      <td>Top in sweatshirt fabric with a decorative kno...</td>\n",
       "    </tr>\n",
       "    <tr>\n",
       "      <th>9998</th>\n",
       "      <td>537732001</td>\n",
       "      <td>Dita dress</td>\n",
       "      <td>Light Beige</td>\n",
       "      <td>None</td>\n",
       "      <td>Underdress</td>\n",
       "      <td>Underwear</td>\n",
       "      <td>Microfibre slip with narrow, adjustable should...</td>\n",
       "    </tr>\n",
       "    <tr>\n",
       "      <th>9999</th>\n",
       "      <td>537732002</td>\n",
       "      <td>Dita Slip Dress</td>\n",
       "      <td>Black</td>\n",
       "      <td>../input/h-and-m-personalized-fashion-recommen...</td>\n",
       "      <td>Underdress</td>\n",
       "      <td>Underwear</td>\n",
       "      <td>Microfibre slip with narrow, adjustable should...</td>\n",
       "    </tr>\n",
       "  </tbody>\n",
       "</table>\n",
       "<p>10000 rows × 7 columns</p>\n",
       "</div>"
      ],
      "text/plain": [
       "      article_id            prod_name colour_group_name  \\\n",
       "0      108775015            Strap top             Black   \n",
       "1      108775044            Strap top             White   \n",
       "2      108775051        Strap top (1)         Off White   \n",
       "3      110065001    OP T-shirt (Idro)             Black   \n",
       "4      110065002    OP T-shirt (Idro)             White   \n",
       "...          ...                  ...               ...   \n",
       "9995   537708002  SEAN CREW NECK DEAL        Light Grey   \n",
       "9996   537722001      BEAR KNOT TERRY              Grey   \n",
       "9997   537722004      BEAR KNOT TERRY              Pink   \n",
       "9998   537732001           Dita dress       Light Beige   \n",
       "9999   537732002      Dita Slip Dress             Black   \n",
       "\n",
       "                                             image_path product_type_name  \\\n",
       "0     ../input/h-and-m-personalized-fashion-recommen...          Vest top   \n",
       "1     ../input/h-and-m-personalized-fashion-recommen...          Vest top   \n",
       "2     ../input/h-and-m-personalized-fashion-recommen...          Vest top   \n",
       "3     ../input/h-and-m-personalized-fashion-recommen...               Bra   \n",
       "4     ../input/h-and-m-personalized-fashion-recommen...               Bra   \n",
       "...                                                 ...               ...   \n",
       "9995  ../input/h-and-m-personalized-fashion-recommen...           Sweater   \n",
       "9996  ../input/h-and-m-personalized-fashion-recommen...           Sweater   \n",
       "9997  ../input/h-and-m-personalized-fashion-recommen...           Sweater   \n",
       "9998                                               None        Underdress   \n",
       "9999  ../input/h-and-m-personalized-fashion-recommen...        Underdress   \n",
       "\n",
       "      product_group_name                                        detail_desc  \n",
       "0     Garment Upper body            Jersey top with narrow shoulder straps.  \n",
       "1     Garment Upper body            Jersey top with narrow shoulder straps.  \n",
       "2     Garment Upper body            Jersey top with narrow shoulder straps.  \n",
       "3              Underwear  Microfibre T-shirt bra with underwired, moulde...  \n",
       "4              Underwear  Microfibre T-shirt bra with underwired, moulde...  \n",
       "...                  ...                                                ...  \n",
       "9995  Garment Upper body  Top in light, printed sweatshirt fabric with r...  \n",
       "9996  Garment Upper body  Top in sweatshirt fabric with a decorative kno...  \n",
       "9997  Garment Upper body  Top in sweatshirt fabric with a decorative kno...  \n",
       "9998           Underwear  Microfibre slip with narrow, adjustable should...  \n",
       "9999           Underwear  Microfibre slip with narrow, adjustable should...  \n",
       "\n",
       "[10000 rows x 7 columns]"
      ]
     },
     "execution_count": 14,
     "metadata": {},
     "output_type": "execute_result"
    }
   ],
   "source": [
    "HM_data"
   ]
  },
  {
   "cell_type": "code",
   "execution_count": 15,
   "id": "50a564dd",
   "metadata": {
    "execution": {
     "iopub.execute_input": "2022-03-16T12:28:34.962814Z",
     "iopub.status.busy": "2022-03-16T12:28:34.961876Z",
     "iopub.status.idle": "2022-03-16T12:28:34.976709Z",
     "shell.execute_reply": "2022-03-16T12:28:34.976295Z",
     "shell.execute_reply.started": "2022-03-16T11:33:19.634857Z"
    },
    "papermill": {
     "duration": 0.060374,
     "end_time": "2022-03-16T12:28:34.976822",
     "exception": false,
     "start_time": "2022-03-16T12:28:34.916448",
     "status": "completed"
    },
    "tags": []
   },
   "outputs": [
    {
     "name": "stdout",
     "output_type": "stream",
     "text": [
      "After removal of products with short description: 9851\n"
     ]
    }
   ],
   "source": [
    "\n",
    "#removing data-points with short-titles\n",
    "HM_data_sorted = HM_data[HM_data['detail_desc'].apply(lambda x: len(str(x).split())>4)]\n",
    "print(\"After removal of products with short description:\", HM_data_sorted.shape[0])"
   ]
  },
  {
   "cell_type": "code",
   "execution_count": 16,
   "id": "fe004e12",
   "metadata": {
    "execution": {
     "iopub.execute_input": "2022-03-16T12:28:35.056656Z",
     "iopub.status.busy": "2022-03-16T12:28:35.055979Z",
     "iopub.status.idle": "2022-03-16T12:28:35.068716Z",
     "shell.execute_reply": "2022-03-16T12:28:35.068310Z",
     "shell.execute_reply.started": "2022-03-16T11:33:20.783214Z"
    },
    "papermill": {
     "duration": 0.054533,
     "end_time": "2022-03-16T12:28:35.068825",
     "exception": false,
     "start_time": "2022-03-16T12:28:35.014292",
     "status": "completed"
    },
    "tags": []
   },
   "outputs": [],
   "source": [
    "HM_data_sorted.sort_values('detail_desc',inplace=True, ascending=False)"
   ]
  },
  {
   "cell_type": "code",
   "execution_count": 17,
   "id": "e4be9209",
   "metadata": {
    "execution": {
     "iopub.execute_input": "2022-03-16T12:28:35.152694Z",
     "iopub.status.busy": "2022-03-16T12:28:35.150882Z",
     "iopub.status.idle": "2022-03-16T12:28:35.836711Z",
     "shell.execute_reply": "2022-03-16T12:28:35.836219Z",
     "shell.execute_reply.started": "2022-03-16T11:33:21.982851Z"
    },
    "papermill": {
     "duration": 0.730327,
     "end_time": "2022-03-16T12:28:35.836865",
     "exception": false,
     "start_time": "2022-03-16T12:28:35.106538",
     "status": "completed"
    },
    "tags": []
   },
   "outputs": [],
   "source": [
    "indices = []\n",
    "for i,row in HM_data_sorted.iterrows():\n",
    "    indices.append(i)\n",
    "    \n",
    "import itertools\n",
    "stage1_dedupe_asins = []\n",
    "i = 0\n",
    "j = 0\n",
    "num_data_points = HM_data_sorted.shape[0]\n",
    "while i < num_data_points and j < num_data_points:\n",
    "       \n",
    "    previous_i = i\n",
    "    a = HM_data['detail_desc'].loc[indices[i]].split()\n",
    "\n",
    "    # search for the similar products sequentially \n",
    "    j = i+1\n",
    "    while j < num_data_points:\n",
    "        b = HM_data['detail_desc'].loc[indices[j]].split()        \n",
    "        length = max(len(a), len(b))    \n",
    "        count  = 0\n",
    "\n",
    "        for k in itertools.zip_longest(a,b): \n",
    "            if (k[0] == k[1]):\n",
    "                count += 1\n",
    "\n",
    "        # if the number of words in which both strings differ are > 2 , we are considering it as those two apperals are different\n",
    "        # if the number of words in which both strings differ are < 2 , we are considering it as those two apperals are same, hence we are ignoring them\n",
    "        if (length - count) > 2: # number of words in which both sensences differ\n",
    "            # if both strings are differ by more than 2 words we include the 1st string index\n",
    "            stage1_dedupe_asins.append(HM_data_sorted['article_id'].loc[indices[i]])\n",
    "\n",
    "            # if the comaprision between is between num_data_points, num_data_points-1 strings and they differ in more than 2 words we include both\n",
    "            if j == num_data_points-1: stage1_dedupe_asins.append(HM_data_sorted['article_id'].loc[indices[j]])\n",
    "\n",
    "            # start searching for similar apperals corresponds 2nd string\n",
    "            i = j\n",
    "            break\n",
    "        else:\n",
    "            j += 1\n",
    "    if previous_i == i:\n",
    "        break    "
   ]
  },
  {
   "cell_type": "code",
   "execution_count": 18,
   "id": "6e7e06c1",
   "metadata": {
    "execution": {
     "iopub.execute_input": "2022-03-16T12:28:35.917445Z",
     "iopub.status.busy": "2022-03-16T12:28:35.916669Z",
     "iopub.status.idle": "2022-03-16T12:28:35.920383Z",
     "shell.execute_reply": "2022-03-16T12:28:35.920816Z",
     "shell.execute_reply.started": "2022-03-16T11:33:25.102312Z"
    },
    "papermill": {
     "duration": 0.045903,
     "end_time": "2022-03-16T12:28:35.920968",
     "exception": false,
     "start_time": "2022-03-16T12:28:35.875065",
     "status": "completed"
    },
    "tags": []
   },
   "outputs": [],
   "source": [
    "#removing duplicated\n",
    "HM_data = HM_data.loc[HM_data['article_id'].isin(stage1_dedupe_asins)]"
   ]
  },
  {
   "cell_type": "code",
   "execution_count": 19,
   "id": "63cec9d9",
   "metadata": {
    "execution": {
     "iopub.execute_input": "2022-03-16T12:28:35.998290Z",
     "iopub.status.busy": "2022-03-16T12:28:35.997465Z",
     "iopub.status.idle": "2022-03-16T12:28:36.002469Z",
     "shell.execute_reply": "2022-03-16T12:28:36.002871Z",
     "shell.execute_reply.started": "2022-03-16T11:33:26.488322Z"
    },
    "papermill": {
     "duration": 0.044848,
     "end_time": "2022-03-16T12:28:36.003004",
     "exception": false,
     "start_time": "2022-03-16T12:28:35.958156",
     "status": "completed"
    },
    "tags": []
   },
   "outputs": [
    {
     "name": "stdout",
     "output_type": "stream",
     "text": [
      "Number of data points :  3062\n"
     ]
    }
   ],
   "source": [
    "#getting the number of data-points after removing the duplicates\n",
    "print('Number of data points : ', HM_data.shape[0])"
   ]
  },
  {
   "cell_type": "code",
   "execution_count": 20,
   "id": "81bf8e49",
   "metadata": {
    "execution": {
     "iopub.execute_input": "2022-03-16T12:28:36.085600Z",
     "iopub.status.busy": "2022-03-16T12:28:36.084838Z",
     "iopub.status.idle": "2022-03-16T12:30:22.803769Z",
     "shell.execute_reply": "2022-03-16T12:30:22.802960Z",
     "shell.execute_reply.started": "2022-03-16T11:33:28.994257Z"
    },
    "papermill": {
     "duration": 106.763215,
     "end_time": "2022-03-16T12:30:22.803941",
     "exception": false,
     "start_time": "2022-03-16T12:28:36.040726",
     "status": "completed"
    },
    "tags": []
   },
   "outputs": [],
   "source": [
    "indices = []\n",
    "for i,row in HM_data.iterrows():\n",
    "    indices.append(i)\n",
    "\n",
    "stage2_dedupe_asins = []\n",
    "while len(indices)!=0:\n",
    "    i = indices.pop()\n",
    "    stage2_dedupe_asins.append(HM_data['article_id'].loc[i])\n",
    "    # consider the first apperal's title\n",
    "    a = HM_data['detail_desc'].loc[i].split()\n",
    " \n",
    "    for j in indices:\n",
    "        \n",
    "        b = HM_data['detail_desc'].loc[j].split()\n",
    "        length = max(len(a),len(b))\n",
    "        \n",
    "        # count is used to store the number of words that are matched in both strings\n",
    "        count  = 0\n",
    "\n",
    "        for k in itertools.zip_longest(a,b): \n",
    "            if (k[0]==k[1]):\n",
    "                count += 1\n",
    "\n",
    "        #if the number of words in which both strings differ are < 3 ,\n",
    "        #we are considering it as those two apperals are same, hence we are ignoring them\n",
    "        if (length - count) < 3:\n",
    "            indices.remove(j)"
   ]
  },
  {
   "cell_type": "code",
   "execution_count": 21,
   "id": "92968263",
   "metadata": {
    "execution": {
     "iopub.execute_input": "2022-03-16T12:30:22.885387Z",
     "iopub.status.busy": "2022-03-16T12:30:22.884725Z",
     "iopub.status.idle": "2022-03-16T12:30:22.887941Z",
     "shell.execute_reply": "2022-03-16T12:30:22.888506Z",
     "shell.execute_reply.started": "2022-03-16T11:43:07.370946Z"
    },
    "papermill": {
     "duration": 0.045785,
     "end_time": "2022-03-16T12:30:22.888684",
     "exception": false,
     "start_time": "2022-03-16T12:30:22.842899",
     "status": "completed"
    },
    "tags": []
   },
   "outputs": [
    {
     "name": "stdout",
     "output_type": "stream",
     "text": [
      "Number of data points after stage two of dedupe:  3062\n"
     ]
    }
   ],
   "source": [
    "#getting the number of data-points after removing all the duplicates\n",
    "print('Number of data points after stage two of dedupe: ',HM_data.shape[0])\n"
   ]
  },
  {
   "cell_type": "code",
   "execution_count": 22,
   "id": "9829e4dd",
   "metadata": {
    "execution": {
     "iopub.execute_input": "2022-03-16T12:30:22.969396Z",
     "iopub.status.busy": "2022-03-16T12:30:22.968634Z",
     "iopub.status.idle": "2022-03-16T12:30:22.981951Z",
     "shell.execute_reply": "2022-03-16T12:30:22.981546Z",
     "shell.execute_reply.started": "2022-03-16T11:43:08.255684Z"
    },
    "papermill": {
     "duration": 0.05366,
     "end_time": "2022-03-16T12:30:22.982073",
     "exception": false,
     "start_time": "2022-03-16T12:30:22.928413",
     "status": "completed"
    },
    "tags": []
   },
   "outputs": [
    {
     "data": {
      "text/html": [
       "<div>\n",
       "<style scoped>\n",
       "    .dataframe tbody tr th:only-of-type {\n",
       "        vertical-align: middle;\n",
       "    }\n",
       "\n",
       "    .dataframe tbody tr th {\n",
       "        vertical-align: top;\n",
       "    }\n",
       "\n",
       "    .dataframe thead th {\n",
       "        text-align: right;\n",
       "    }\n",
       "</style>\n",
       "<table border=\"1\" class=\"dataframe\">\n",
       "  <thead>\n",
       "    <tr style=\"text-align: right;\">\n",
       "      <th></th>\n",
       "      <th>article_id</th>\n",
       "      <th>prod_name</th>\n",
       "      <th>colour_group_name</th>\n",
       "      <th>image_path</th>\n",
       "      <th>product_type_name</th>\n",
       "      <th>product_group_name</th>\n",
       "      <th>detail_desc</th>\n",
       "    </tr>\n",
       "  </thead>\n",
       "  <tbody>\n",
       "    <tr>\n",
       "      <th>0</th>\n",
       "      <td>108775015</td>\n",
       "      <td>Strap top</td>\n",
       "      <td>Black</td>\n",
       "      <td>../input/h-and-m-personalized-fashion-recommen...</td>\n",
       "      <td>Vest top</td>\n",
       "      <td>Garment Upper body</td>\n",
       "      <td>Jersey top with narrow shoulder straps.</td>\n",
       "    </tr>\n",
       "    <tr>\n",
       "      <th>3</th>\n",
       "      <td>110065001</td>\n",
       "      <td>OP T-shirt (Idro)</td>\n",
       "      <td>Black</td>\n",
       "      <td>../input/h-and-m-personalized-fashion-recommen...</td>\n",
       "      <td>Bra</td>\n",
       "      <td>Underwear</td>\n",
       "      <td>Microfibre T-shirt bra with underwired, moulde...</td>\n",
       "    </tr>\n",
       "    <tr>\n",
       "      <th>7</th>\n",
       "      <td>111565003</td>\n",
       "      <td>20 den 1p Stockings</td>\n",
       "      <td>Beige</td>\n",
       "      <td>../input/h-and-m-personalized-fashion-recommen...</td>\n",
       "      <td>Socks</td>\n",
       "      <td>Socks &amp; Tights</td>\n",
       "      <td>Semi shiny nylon stockings with a wide, reinfo...</td>\n",
       "    </tr>\n",
       "    <tr>\n",
       "      <th>8</th>\n",
       "      <td>111586001</td>\n",
       "      <td>Shape Up 30 den 1p Tights</td>\n",
       "      <td>Black</td>\n",
       "      <td>../input/h-and-m-personalized-fashion-recommen...</td>\n",
       "      <td>Leggings/Tights</td>\n",
       "      <td>Garment Lower body</td>\n",
       "      <td>Tights with built-in support to lift the botto...</td>\n",
       "    </tr>\n",
       "    <tr>\n",
       "      <th>9</th>\n",
       "      <td>111593001</td>\n",
       "      <td>Support 40 den 1p Tights</td>\n",
       "      <td>Black</td>\n",
       "      <td>../input/h-and-m-personalized-fashion-recommen...</td>\n",
       "      <td>Underwear Tights</td>\n",
       "      <td>Socks &amp; Tights</td>\n",
       "      <td>Semi shiny tights that shape the tummy, thighs...</td>\n",
       "    </tr>\n",
       "    <tr>\n",
       "      <th>...</th>\n",
       "      <td>...</td>\n",
       "      <td>...</td>\n",
       "      <td>...</td>\n",
       "      <td>...</td>\n",
       "      <td>...</td>\n",
       "      <td>...</td>\n",
       "      <td>...</td>\n",
       "    </tr>\n",
       "    <tr>\n",
       "      <th>9985</th>\n",
       "      <td>537672001</td>\n",
       "      <td>Halloween Tattoos</td>\n",
       "      <td>Other Red</td>\n",
       "      <td>../input/h-and-m-personalized-fashion-recommen...</td>\n",
       "      <td>Fine cosmetics</td>\n",
       "      <td>Cosmetic</td>\n",
       "      <td>Temporary tattoos in different sizes.</td>\n",
       "    </tr>\n",
       "    <tr>\n",
       "      <th>9992</th>\n",
       "      <td>537688014</td>\n",
       "      <td>Rachel</td>\n",
       "      <td>Dark Grey</td>\n",
       "      <td>../input/h-and-m-personalized-fashion-recommen...</td>\n",
       "      <td>Sweater</td>\n",
       "      <td>Garment Upper body</td>\n",
       "      <td>Long polo-neck jumper in a soft knit with long...</td>\n",
       "    </tr>\n",
       "    <tr>\n",
       "      <th>9994</th>\n",
       "      <td>537691001</td>\n",
       "      <td>FRIDA furry jkt</td>\n",
       "      <td>Black</td>\n",
       "      <td>../input/h-and-m-personalized-fashion-recommen...</td>\n",
       "      <td>Jacket</td>\n",
       "      <td>Garment Upper body</td>\n",
       "      <td>Jacket in soft faux fur with unlined sleeves, ...</td>\n",
       "    </tr>\n",
       "    <tr>\n",
       "      <th>9997</th>\n",
       "      <td>537722004</td>\n",
       "      <td>BEAR KNOT TERRY</td>\n",
       "      <td>Pink</td>\n",
       "      <td>../input/h-and-m-personalized-fashion-recommen...</td>\n",
       "      <td>Sweater</td>\n",
       "      <td>Garment Upper body</td>\n",
       "      <td>Top in sweatshirt fabric with a decorative kno...</td>\n",
       "    </tr>\n",
       "    <tr>\n",
       "      <th>9999</th>\n",
       "      <td>537732002</td>\n",
       "      <td>Dita Slip Dress</td>\n",
       "      <td>Black</td>\n",
       "      <td>../input/h-and-m-personalized-fashion-recommen...</td>\n",
       "      <td>Underdress</td>\n",
       "      <td>Underwear</td>\n",
       "      <td>Microfibre slip with narrow, adjustable should...</td>\n",
       "    </tr>\n",
       "  </tbody>\n",
       "</table>\n",
       "<p>3062 rows × 7 columns</p>\n",
       "</div>"
      ],
      "text/plain": [
       "      article_id                  prod_name colour_group_name  \\\n",
       "0      108775015                  Strap top             Black   \n",
       "3      110065001          OP T-shirt (Idro)             Black   \n",
       "7      111565003        20 den 1p Stockings             Beige   \n",
       "8      111586001  Shape Up 30 den 1p Tights             Black   \n",
       "9      111593001   Support 40 den 1p Tights             Black   \n",
       "...          ...                        ...               ...   \n",
       "9985   537672001          Halloween Tattoos         Other Red   \n",
       "9992   537688014                     Rachel         Dark Grey   \n",
       "9994   537691001            FRIDA furry jkt             Black   \n",
       "9997   537722004            BEAR KNOT TERRY              Pink   \n",
       "9999   537732002            Dita Slip Dress             Black   \n",
       "\n",
       "                                             image_path product_type_name  \\\n",
       "0     ../input/h-and-m-personalized-fashion-recommen...          Vest top   \n",
       "3     ../input/h-and-m-personalized-fashion-recommen...               Bra   \n",
       "7     ../input/h-and-m-personalized-fashion-recommen...             Socks   \n",
       "8     ../input/h-and-m-personalized-fashion-recommen...   Leggings/Tights   \n",
       "9     ../input/h-and-m-personalized-fashion-recommen...  Underwear Tights   \n",
       "...                                                 ...               ...   \n",
       "9985  ../input/h-and-m-personalized-fashion-recommen...    Fine cosmetics   \n",
       "9992  ../input/h-and-m-personalized-fashion-recommen...           Sweater   \n",
       "9994  ../input/h-and-m-personalized-fashion-recommen...            Jacket   \n",
       "9997  ../input/h-and-m-personalized-fashion-recommen...           Sweater   \n",
       "9999  ../input/h-and-m-personalized-fashion-recommen...        Underdress   \n",
       "\n",
       "      product_group_name                                        detail_desc  \n",
       "0     Garment Upper body            Jersey top with narrow shoulder straps.  \n",
       "3              Underwear  Microfibre T-shirt bra with underwired, moulde...  \n",
       "7         Socks & Tights  Semi shiny nylon stockings with a wide, reinfo...  \n",
       "8     Garment Lower body  Tights with built-in support to lift the botto...  \n",
       "9         Socks & Tights  Semi shiny tights that shape the tummy, thighs...  \n",
       "...                  ...                                                ...  \n",
       "9985            Cosmetic              Temporary tattoos in different sizes.  \n",
       "9992  Garment Upper body  Long polo-neck jumper in a soft knit with long...  \n",
       "9994  Garment Upper body  Jacket in soft faux fur with unlined sleeves, ...  \n",
       "9997  Garment Upper body  Top in sweatshirt fabric with a decorative kno...  \n",
       "9999           Underwear  Microfibre slip with narrow, adjustable should...  \n",
       "\n",
       "[3062 rows x 7 columns]"
      ]
     },
     "execution_count": 22,
     "metadata": {},
     "output_type": "execute_result"
    }
   ],
   "source": [
    "HM_data"
   ]
  },
  {
   "cell_type": "code",
   "execution_count": 23,
   "id": "019bee71",
   "metadata": {
    "execution": {
     "iopub.execute_input": "2022-03-16T12:30:23.068344Z",
     "iopub.status.busy": "2022-03-16T12:30:23.067543Z",
     "iopub.status.idle": "2022-03-16T12:30:24.449133Z",
     "shell.execute_reply": "2022-03-16T12:30:24.450031Z",
     "shell.execute_reply.started": "2022-03-16T11:43:08.917112Z"
    },
    "papermill": {
     "duration": 1.429137,
     "end_time": "2022-03-16T12:30:24.450230",
     "exception": false,
     "start_time": "2022-03-16T12:30:23.021093",
     "status": "completed"
    },
    "tags": []
   },
   "outputs": [
    {
     "name": "stdout",
     "output_type": "stream",
     "text": [
      "list of stop words: {'theirs', 'too', 'o', 'only', 'it', 'now', 'll', 'd', 'up', 'in', 'itself', \"isn't\", 'i', 'nor', 'very', 'herself', 'them', 'myself', 'a', 't', 'into', 'being', 'there', 'didn', 'out', 's', 'm', \"you've\", 'between', 'mustn', 'shouldn', 'wouldn', 'themselves', 'before', 'with', 'is', 'under', 'because', 'ain', 'that', 'weren', 'just', 'here', 'where', 'shan', 'few', 'its', 'wasn', 'who', 'about', 'your', 'own', 'what', 'did', 'mightn', 've', 'does', 'their', 'our', 'why', \"you'll\", 'by', \"needn't\", 'won', 'same', \"wasn't\", 'aren', 'for', 'am', 'no', 'has', \"she's\", \"shouldn't\", 'above', 'she', 'don', 'should', 'be', \"weren't\", 'which', 'down', \"hasn't\", 'most', 'do', 'we', 'and', 'than', 'needn', 'you', 'against', 'having', 'he', 'him', 'had', 'the', 'been', 'y', 'hasn', 'his', \"shan't\", 'are', 'so', 'these', 'after', 'to', 'her', 'doing', 'such', 'of', 'isn', \"hadn't\", 'from', 'those', \"should've\", 'this', \"didn't\", \"wouldn't\", 'couldn', 'other', 'hadn', 'yours', 'each', 'doesn', 'me', \"haven't\", \"that'll\", \"aren't\", 'more', \"you'd\", 'below', \"couldn't\", 'hers', \"don't\", 'as', 're', \"won't\", 'whom', 'any', 'will', \"doesn't\", 'all', 'were', 'when', 'further', 'an', \"you're\", \"mightn't\", 'both', 'at', 'was', 'then', 'off', 'again', 'himself', 'they', 'during', 'how', 'have', 'or', 'on', 'yourself', 'ma', 'not', 'can', 'once', 'haven', 'but', 'ourselves', 'until', 'ours', 'if', 'my', 'some', \"mustn't\", 'yourselves', 'while', 'through', 'over', \"it's\"}\n"
     ]
    }
   ],
   "source": [
    "# removing stop-words\n",
    "import nltk\n",
    "from nltk.corpus import stopwords\n",
    "from nltk.tokenize import word_tokenize\n",
    "\n",
    "stop_words = set(stopwords.words('english'))\n",
    "print ('list of stop words:', stop_words)\n",
    "\n",
    "def nlp_preprocessing(total_text, index, column):\n",
    "    if type(total_text) is not int:\n",
    "        string = \"\"\n",
    "        for words in total_text.split():    \n",
    "            word = (\"\".join(e for e in words if e.isalnum()))      \n",
    "            word = word.lower()       \n",
    "            if not word in stop_words:\n",
    "                string += word + \" \"\n",
    "        HM_data[column][index] = string\n",
    "        \n",
    "for index, row in HM_data.iterrows():\n",
    "    nlp_preprocessing(row['detail_desc'], index, 'detail_desc')"
   ]
  },
  {
   "cell_type": "code",
   "execution_count": 24,
   "id": "8b92c9fe",
   "metadata": {
    "execution": {
     "iopub.execute_input": "2022-03-16T12:30:24.533510Z",
     "iopub.status.busy": "2022-03-16T12:30:24.532941Z",
     "iopub.status.idle": "2022-03-16T12:30:24.536228Z",
     "shell.execute_reply": "2022-03-16T12:30:24.535692Z",
     "shell.execute_reply.started": "2022-03-16T11:43:14.094052Z"
    },
    "papermill": {
     "duration": 0.046222,
     "end_time": "2022-03-16T12:30:24.536333",
     "exception": false,
     "start_time": "2022-03-16T12:30:24.490111",
     "status": "completed"
    },
    "tags": []
   },
   "outputs": [
    {
     "name": "stdout",
     "output_type": "stream",
     "text": [
      "argu\n",
      "fish\n"
     ]
    }
   ],
   "source": [
    "from nltk.stem.porter import *\n",
    "stemmer = PorterStemmer()\n",
    "print(stemmer.stem('arguing'))\n",
    "print(stemmer.stem('fishing'))\n"
   ]
  },
  {
   "cell_type": "code",
   "execution_count": 25,
   "id": "a3e8be9d",
   "metadata": {
    "execution": {
     "iopub.execute_input": "2022-03-16T12:30:24.618785Z",
     "iopub.status.busy": "2022-03-16T12:30:24.618082Z",
     "iopub.status.idle": "2022-03-16T12:30:24.620469Z",
     "shell.execute_reply": "2022-03-16T12:30:24.620063Z",
     "shell.execute_reply.started": "2022-03-16T11:43:14.892211Z"
    },
    "papermill": {
     "duration": 0.045278,
     "end_time": "2022-03-16T12:30:24.620574",
     "exception": false,
     "start_time": "2022-03-16T12:30:24.575296",
     "status": "completed"
    },
    "tags": []
   },
   "outputs": [],
   "source": [
    "# function to display an image\n",
    "def display_img(url,ax,fig):  \n",
    "    img = Image.open(url) \n",
    "    plt.imshow(img)"
   ]
  },
  {
   "cell_type": "code",
   "execution_count": 26,
   "id": "2e80939d",
   "metadata": {
    "execution": {
     "iopub.execute_input": "2022-03-16T12:30:24.705774Z",
     "iopub.status.busy": "2022-03-16T12:30:24.705034Z",
     "iopub.status.idle": "2022-03-16T12:30:24.707017Z",
     "shell.execute_reply": "2022-03-16T12:30:24.707397Z",
     "shell.execute_reply.started": "2022-03-16T11:43:15.668528Z"
    },
    "papermill": {
     "duration": 0.047861,
     "end_time": "2022-03-16T12:30:24.707521",
     "exception": false,
     "start_time": "2022-03-16T12:30:24.659660",
     "status": "completed"
    },
    "tags": []
   },
   "outputs": [],
   "source": [
    "# function to generate the heatmap\n",
    "def plot_heatmap(keys, values, labels, url, text):    \n",
    "        gs = gridspec.GridSpec(2, 2, width_ratios=[4,1], height_ratios=[4,1]) \n",
    "        fig = plt.figure(figsize=(25,3))\n",
    "        # 1st, ploting heat map that represents the count of commonly ocurred words in title2\n",
    "        ax = plt.subplot(gs[0])\n",
    "        # it displays a cell in white color if the word is intersection(list of words of title1 and list of words of title2), in black if not\n",
    "        ax = sns.heatmap(np.array([values]), annot=np.array([labels]))\n",
    "        ax.set_xticklabels(keys) # set that axis labels as the words of title\n",
    "        ax.set_title(text) # apparel title        \n",
    "        # 2nd, plotting image of the the apparel\n",
    "        ax = plt.subplot(gs[1])  \n",
    "        ax.grid(False)\n",
    "        ax.set_xticks([])\n",
    "        ax.set_yticks([])  \n",
    "        display_img(url, ax, fig)           \n",
    "        plt.show()"
   ]
  },
  {
   "cell_type": "code",
   "execution_count": 27,
   "id": "c2052ca4",
   "metadata": {
    "execution": {
     "iopub.execute_input": "2022-03-16T12:30:24.789318Z",
     "iopub.status.busy": "2022-03-16T12:30:24.788590Z",
     "iopub.status.idle": "2022-03-16T12:30:24.791726Z",
     "shell.execute_reply": "2022-03-16T12:30:24.791209Z",
     "shell.execute_reply.started": "2022-03-16T11:43:20.093607Z"
    },
    "papermill": {
     "duration": 0.045579,
     "end_time": "2022-03-16T12:30:24.791964",
     "exception": true,
     "start_time": "2022-03-16T12:30:24.746385",
     "status": "failed"
    },
    "tags": []
   },
   "outputs": [
    {
     "ename": "IndentationError",
     "evalue": "unindent does not match any outer indentation level (<tokenize>, line 4)",
     "output_type": "error",
     "traceback": [
      "\u001b[0;36m  File \u001b[0;32m\"<tokenize>\"\u001b[0;36m, line \u001b[0;32m4\u001b[0m\n\u001b[0;31m    for i in vec2:\u001b[0m\n\u001b[0m    ^\u001b[0m\n\u001b[0;31mIndentationError\u001b[0m\u001b[0;31m:\u001b[0m unindent does not match any outer indentation level\n"
     ]
    }
   ],
   "source": [
    "# function to display heatmap and image        \n",
    "def plot_heatmap_image(doc_id, vec1, vec2, url, text, model):\n",
    "      intersection = set(vec1.keys()) & set(vec2.keys())   \n",
    "    for i in vec2:\n",
    "        if i not in intersection:\n",
    "            vec2[i]=0\n",
    "   \n",
    "    keys = list(vec2.keys())\n",
    "    #  if ith word in intersection(lis of words of title1 and list of words of title2): values(i)=count of that word in title2 else values(i)=0 \n",
    "    values = [vec2[x] for x in vec2.keys()]   \n",
    "    if model == 'bag_of_words':\n",
    "        labels = values\n",
    "    elif model == 'tfidf':\n",
    "        labels = []\n",
    "        for x in vec2.keys(): \n",
    "            if x in  tfidf_title_vectorizer.vocabulary_:\n",
    "                labels.append(tfidf_title_features[doc_id, tfidf_title_vectorizer.vocabulary_[x]])\n",
    "            else:\n",
    "                labels.append(0)\n",
    "    elif model == 'idf':\n",
    "        labels = []\n",
    "        for x in vec2.keys():  \n",
    "            if x in  idf_title_vectorizer.vocabulary_:\n",
    "                labels.append(idf_title_features[doc_id, idf_title_vectorizer.vocabulary_[x]])\n",
    "            else:\n",
    "                labels.append(0)\n",
    "    plot_heatmap(keys, values, labels, url, text)"
   ]
  },
  {
   "cell_type": "code",
   "execution_count": null,
   "id": "dd092260",
   "metadata": {
    "execution": {
     "iopub.execute_input": "2022-03-16T11:43:21.736596Z",
     "iopub.status.busy": "2022-03-16T11:43:21.735974Z",
     "iopub.status.idle": "2022-03-16T11:43:21.741205Z",
     "shell.execute_reply": "2022-03-16T11:43:21.740422Z",
     "shell.execute_reply.started": "2022-03-16T11:43:21.736546Z"
    },
    "papermill": {
     "duration": null,
     "end_time": null,
     "exception": null,
     "start_time": null,
     "status": "pending"
    },
    "tags": []
   },
   "outputs": [],
   "source": [
    "#function to convert text into vector\n",
    "def text_to_vector(text):\n",
    "    word = re.compile(r'\\w+')\n",
    "    words = word.findall(text) \n",
    "    return Counter(words) "
   ]
  },
  {
   "cell_type": "code",
   "execution_count": null,
   "id": "65ab5539",
   "metadata": {
    "execution": {
     "iopub.execute_input": "2022-03-16T11:43:25.957051Z",
     "iopub.status.busy": "2022-03-16T11:43:25.956429Z",
     "iopub.status.idle": "2022-03-16T11:43:25.962172Z",
     "shell.execute_reply": "2022-03-16T11:43:25.961359Z",
     "shell.execute_reply.started": "2022-03-16T11:43:25.957000Z"
    },
    "papermill": {
     "duration": null,
     "end_time": null,
     "exception": null,
     "start_time": null,
     "status": "pending"
    },
    "tags": []
   },
   "outputs": [],
   "source": [
    "# function to display the result\n",
    "def get_result(doc_id, content_a, content_b, url, model):\n",
    "    text1 = content_a\n",
    "    text2 = content_b  \n",
    "    vector1 = text_to_vector(text1) \n",
    "    vector2 = text_to_vector(text2)\n",
    "    plot_heatmap_image(doc_id, vector1, vector2, url, text2, model)"
   ]
  },
  {
   "cell_type": "code",
   "execution_count": null,
   "id": "89b1a2ec",
   "metadata": {
    "execution": {
     "iopub.execute_input": "2022-03-16T12:13:50.863612Z",
     "iopub.status.busy": "2022-03-16T12:13:50.863132Z",
     "iopub.status.idle": "2022-03-16T12:13:50.925485Z",
     "shell.execute_reply": "2022-03-16T12:13:50.924637Z",
     "shell.execute_reply.started": "2022-03-16T12:13:50.863573Z"
    },
    "papermill": {
     "duration": null,
     "end_time": null,
     "exception": null,
     "start_time": null,
     "status": "pending"
    },
    "tags": []
   },
   "outputs": [],
   "source": [
    "from sklearn.feature_extraction.text import CountVectorizer\n",
    "title_vectorizer = CountVectorizer()\n",
    "title_features   = title_vectorizer.fit_transform(HM_data['detail_desc'])\n",
    "title_features.get_shape()\n"
   ]
  },
  {
   "cell_type": "code",
   "execution_count": null,
   "id": "1a06eaf3",
   "metadata": {
    "execution": {
     "iopub.execute_input": "2022-03-16T12:15:16.570196Z",
     "iopub.status.busy": "2022-03-16T12:15:16.569946Z",
     "iopub.status.idle": "2022-03-16T12:15:29.678700Z",
     "shell.execute_reply": "2022-03-16T12:15:29.677973Z",
     "shell.execute_reply.started": "2022-03-16T12:15:16.570168Z"
    },
    "papermill": {
     "duration": null,
     "end_time": null,
     "exception": null,
     "start_time": null,
     "status": "pending"
    },
    "tags": []
   },
   "outputs": [],
   "source": [
    "data=HM_data.copy()\n",
    "def bag_of_words_model(doc_id, num_results): \n",
    "    pairwise_dist = pairwise_distances(title_features,title_features[doc_id])\n",
    "  \n",
    "    indices = np.argsort(pairwise_dist.flatten())[0:num_results]\n",
    "    #pdists will store the smallest distances\n",
    "    pdists  = np.sort(pairwise_dist.flatten())[0:num_results]\n",
    "    #data frame indices of the 9 smallest distace's\n",
    "    df_indices = list(data.index[indices])    \n",
    "    for i in range(0,len(indices)):\n",
    "        # we will pass 1. doc_id, 2. title1, 3. title2, url, model\n",
    "        get_result(indices[i],data['detail_desc'].loc[df_indices[0]], data['detail_desc'].loc[df_indices[i]], data['image_path'].loc[df_indices[i]], 'bag_of_words')\n",
    "        print('article_id :',data['article_id'].loc[df_indices[i]])\n",
    "        print ('detail_desc:', data['detail_desc'].loc[df_indices[i]])\n",
    "        print ('Euclidean similarity with the query image :', pdists[i])\n",
    "        print('='*60)\n",
    "#call the bag-of-words model for a product to get similar products\n",
    "bag_of_words_model(1587, 20)\n",
    "# in the output heat map each value represents the tfidf values of the label word, the color represents the intersection with inputs title"
   ]
  },
  {
   "cell_type": "code",
   "execution_count": null,
   "id": "db4c4d9a",
   "metadata": {
    "execution": {
     "iopub.execute_input": "2022-03-16T12:16:26.693082Z",
     "iopub.status.busy": "2022-03-16T12:16:26.692556Z",
     "iopub.status.idle": "2022-03-16T12:16:26.754369Z",
     "shell.execute_reply": "2022-03-16T12:16:26.753702Z",
     "shell.execute_reply.started": "2022-03-16T12:16:26.693043Z"
    },
    "papermill": {
     "duration": null,
     "end_time": null,
     "exception": null,
     "start_time": null,
     "status": "pending"
    },
    "tags": []
   },
   "outputs": [],
   "source": [
    "tfidf_title_vectorizer = TfidfVectorizer(min_df = 0)\n",
    "tfidf_title_features = tfidf_title_vectorizer.fit_transform(data['detail_desc'])"
   ]
  },
  {
   "cell_type": "code",
   "execution_count": null,
   "id": "818b9e59",
   "metadata": {
    "execution": {
     "iopub.execute_input": "2022-03-16T12:17:32.170475Z",
     "iopub.status.busy": "2022-03-16T12:17:32.170199Z",
     "iopub.status.idle": "2022-03-16T12:17:45.832647Z",
     "shell.execute_reply": "2022-03-16T12:17:45.831968Z",
     "shell.execute_reply.started": "2022-03-16T12:17:32.170447Z"
    },
    "papermill": {
     "duration": null,
     "end_time": null,
     "exception": null,
     "start_time": null,
     "status": "pending"
    },
    "tags": []
   },
   "outputs": [],
   "source": [
    "def tfidf_model(doc_id, num_results):   \n",
    "    pairwise_dist = pairwise_distances(tfidf_title_features,tfidf_title_features[doc_id]) \n",
    "    indices = np.argsort(pairwise_dist.flatten())[0:num_results]  \n",
    "    pdists  = np.sort(pairwise_dist.flatten())[0:num_results]  \n",
    "    df_indices = list(data.index[indices])\n",
    "    for i in range(0,len(indices)):  \n",
    "        get_result(indices[i], data['detail_desc'].loc[df_indices[0]], data['detail_desc'].loc[df_indices[i]], data['image_path'].loc[df_indices[i]], 'tfidf')\n",
    "        print('article_id :',data['article_id'].loc[df_indices[i]])\n",
    "        print ('Eucliden distance from the given image :', pdists[i])\n",
    "        print('='*125)\n",
    "tfidf_model(1587, 20)\n"
   ]
  },
  {
   "cell_type": "code",
   "execution_count": null,
   "id": "134eb837",
   "metadata": {
    "execution": {
     "iopub.execute_input": "2022-03-16T12:17:56.554906Z",
     "iopub.status.busy": "2022-03-16T12:17:56.554414Z",
     "iopub.status.idle": "2022-03-16T12:17:56.613983Z",
     "shell.execute_reply": "2022-03-16T12:17:56.613255Z",
     "shell.execute_reply.started": "2022-03-16T12:17:56.554870Z"
    },
    "papermill": {
     "duration": null,
     "end_time": null,
     "exception": null,
     "start_time": null,
     "status": "pending"
    },
    "tags": []
   },
   "outputs": [],
   "source": [
    "idf_title_vectorizer = CountVectorizer()\n",
    "idf_title_features = idf_title_vectorizer.fit_transform(data['detail_desc'])"
   ]
  },
  {
   "cell_type": "code",
   "execution_count": null,
   "id": "a9c89beb",
   "metadata": {
    "execution": {
     "iopub.execute_input": "2022-03-16T12:18:19.123756Z",
     "iopub.status.busy": "2022-03-16T12:18:19.123203Z",
     "iopub.status.idle": "2022-03-16T12:18:19.128069Z",
     "shell.execute_reply": "2022-03-16T12:18:19.127368Z",
     "shell.execute_reply.started": "2022-03-16T12:18:19.123716Z"
    },
    "papermill": {
     "duration": null,
     "end_time": null,
     "exception": null,
     "start_time": null,
     "status": "pending"
    },
    "tags": []
   },
   "outputs": [],
   "source": [
    "def n_containing(word): \n",
    "    return sum(1 for blob in data['detail_desc'] if word in blob.split())\n",
    "def idf(word):\n",
    "    return math.log(data.shape[0] / (n_containing(word)))"
   ]
  },
  {
   "cell_type": "code",
   "execution_count": null,
   "id": "3d0df251",
   "metadata": {
    "execution": {
     "iopub.execute_input": "2022-03-16T12:19:12.790100Z",
     "iopub.status.busy": "2022-03-16T12:19:12.789431Z",
     "iopub.status.idle": "2022-03-16T12:19:22.197084Z",
     "shell.execute_reply": "2022-03-16T12:19:22.196347Z",
     "shell.execute_reply.started": "2022-03-16T12:19:12.790063Z"
    },
    "papermill": {
     "duration": null,
     "end_time": null,
     "exception": null,
     "start_time": null,
     "status": "pending"
    },
    "tags": []
   },
   "outputs": [],
   "source": [
    "\n",
    "idf_title_features  = idf_title_features.astype(np.float)\n",
    "for i in idf_title_vectorizer.vocabulary_.keys():  \n",
    "    idf_val = idf(i)\n",
    "    # to calculate idf_title_features we will replace the count values with the idf values of the word\n",
    "    for j in idf_title_features[:, idf_title_vectorizer.vocabulary_[i]].nonzero()[0]:        \n",
    "        idf_title_features[j,idf_title_vectorizer.vocabulary_[i]] = idf_val  "
   ]
  },
  {
   "cell_type": "code",
   "execution_count": null,
   "id": "53e36e8f",
   "metadata": {
    "execution": {
     "iopub.execute_input": "2022-03-16T12:20:05.123390Z",
     "iopub.status.busy": "2022-03-16T12:20:05.123113Z",
     "iopub.status.idle": "2022-03-16T12:20:16.938090Z",
     "shell.execute_reply": "2022-03-16T12:20:16.937311Z",
     "shell.execute_reply.started": "2022-03-16T12:20:05.123361Z"
    },
    "papermill": {
     "duration": null,
     "end_time": null,
     "exception": null,
     "start_time": null,
     "status": "pending"
    },
    "tags": []
   },
   "outputs": [],
   "source": [
    "def idf_model(doc_id, num_results): \n",
    "    pairwise_dist = pairwise_distances(idf_title_features,idf_title_features[doc_id])\n",
    "   \n",
    "    indices = np.argsort(pairwise_dist.flatten())[0:num_results]\n",
    "   \n",
    "    pdists  = np.sort(pairwise_dist.flatten())[0:num_results]\n",
    "  \n",
    "    df_indices = list(data.index[indices])\n",
    "    for i in range(0,len(indices)):\n",
    "        get_result(indices[i],data['detail_desc'].loc[df_indices[0]], data['detail_desc'].loc[df_indices[i]], data['image_path'].loc[df_indices[i]], 'idf')\n",
    "        print('article_id :',data['article_id'].loc[df_indices[i]])\n",
    "        print ('euclidean distance from the given image :', pdists[i])\n",
    "        print('='*125)        \n",
    "idf_model(1587,20)\n"
   ]
  },
  {
   "cell_type": "code",
   "execution_count": null,
   "id": "15cd1383",
   "metadata": {
    "papermill": {
     "duration": null,
     "end_time": null,
     "exception": null,
     "start_time": null,
     "status": "pending"
    },
    "tags": []
   },
   "outputs": [],
   "source": []
  }
 ],
 "metadata": {
  "kernelspec": {
   "display_name": "Python 3",
   "language": "python",
   "name": "python3"
  },
  "language_info": {
   "codemirror_mode": {
    "name": "ipython",
    "version": 3
   },
   "file_extension": ".py",
   "mimetype": "text/x-python",
   "name": "python",
   "nbconvert_exporter": "python",
   "pygments_lexer": "ipython3",
   "version": "3.7.12"
  },
  "papermill": {
   "default_parameters": {},
   "duration": 135.066941,
   "end_time": "2022-03-16T12:30:25.941254",
   "environment_variables": {},
   "exception": true,
   "input_path": "__notebook__.ipynb",
   "output_path": "__notebook__.ipynb",
   "parameters": {},
   "start_time": "2022-03-16T12:28:10.874313",
   "version": "2.3.3"
  }
 },
 "nbformat": 4,
 "nbformat_minor": 5
}
